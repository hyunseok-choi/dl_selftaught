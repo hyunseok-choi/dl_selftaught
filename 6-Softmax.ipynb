{
 "cells": [
  {
   "cell_type": "markdown",
   "metadata": {},
   "source": [
    "## Lab 6-1: Softmax"
   ]
  },
  {
   "cell_type": "code",
   "execution_count": 2,
   "metadata": {
    "collapsed": true
   },
   "outputs": [],
   "source": [
    "import tensorflow as tf"
   ]
  },
  {
   "cell_type": "code",
   "execution_count": 3,
   "metadata": {
    "collapsed": true
   },
   "outputs": [],
   "source": [
    "tf.set_random_seed(777)  # for reproducibility\n",
    "\n",
    "x_data = [[1, 2, 1, 1],\n",
    "          [2, 1, 3, 2],\n",
    "          [3, 1, 3, 4],\n",
    "          [4, 1, 5, 5],\n",
    "          [1, 7, 5, 5],\n",
    "          [1, 2, 5, 6],\n",
    "          [1, 6, 6, 6],\n",
    "          [1, 7, 7, 7]]\n",
    "y_data = [[0, 0, 1],\n",
    "          [0, 0, 1],\n",
    "          [0, 0, 1],\n",
    "          [0, 1, 0],\n",
    "          [0, 1, 0],\n",
    "          [0, 1, 0],\n",
    "          [1, 0, 0],\n",
    "          [1, 0, 0]]"
   ]
  },
  {
   "cell_type": "code",
   "execution_count": 4,
   "metadata": {
    "collapsed": true
   },
   "outputs": [],
   "source": [
    "X = tf.placeholder(\"float\", [None, 4])\n",
    "Y = tf.placeholder(\"float\", [None, 3]) # 3 = number of classes\n",
    "nb_classes = 3\n",
    "\n",
    "W = tf.Variable(tf.random_normal([4, nb_classes]), name='weight')\n",
    "b = tf.Variable(tf.random_normal([nb_classes]), name='bias')"
   ]
  },
  {
   "cell_type": "code",
   "execution_count": 5,
   "metadata": {
    "collapsed": true
   },
   "outputs": [],
   "source": [
    "hypothesis = tf.nn.softmax(tf.matmul(X, W) + b)\n",
    "cost = tf.reduce_mean(-tf.reduce_sum(Y * tf.log(hypothesis), axis=1))\n",
    "optimizer = tf.train.GradientDescentOptimizer(learning_rate=0.1).minimize(cost)"
   ]
  },
  {
   "cell_type": "code",
   "execution_count": 9,
   "metadata": {},
   "outputs": [
    {
     "name": "stdout",
     "output_type": "stream",
     "text": [
      "0 5.04862\n",
      "200 0.548425\n",
      "400 0.432149\n",
      "600 0.352467\n",
      "800 0.276829\n",
      "1000 0.232683\n",
      "1200 0.210553\n",
      "1400 0.192215\n",
      "1600 0.176752\n",
      "1800 0.163534\n",
      "2000 0.152108\n",
      "[[  1.38904958e-03   9.98601854e-01   9.06129117e-06]] [1]\n",
      "[[  1.38904958e-03   9.98601854e-01   9.06129117e-06]\n",
      " [  9.31192040e-01   6.29020557e-02   5.90589503e-03]\n",
      " [  1.27327668e-08   3.34112905e-04   9.99665856e-01]] [1 0 2]\n"
     ]
    }
   ],
   "source": [
    "with tf.Session() as sess:\n",
    "    sess.run(tf.global_variables_initializer())\n",
    "    \n",
    "    for step in range(2001):\n",
    "        sess.run(optimizer, feed_dict={X: x_data, Y: y_data})\n",
    "        if step % 200 == 0:\n",
    "            print(step, sess.run(cost, feed_dict={X: x_data, Y: y_data}))\n",
    "            \n",
    "    a = sess.run(hypothesis, feed_dict = {X: [[1, 11, 7, 9]]})\n",
    "    print(a, sess.run(tf.arg_max(a, 1)))\n",
    "    \n",
    "    all = sess.run(hypothesis, feed_dict={X: [[1, 11, 7, 9],\n",
    "                                              [1, 3, 4, 3],\n",
    "                                              [1, 1, 0, 1]]})\n",
    "    print(all, sess.run(tf.arg_max(all, 1)))"
   ]
  },
  {
   "cell_type": "markdown",
   "metadata": {},
   "source": [
    "## Softmax cross entropy with logits"
   ]
  },
  {
   "cell_type": "code",
   "execution_count": 10,
   "metadata": {
    "collapsed": true
   },
   "outputs": [],
   "source": [
    "import numpy as np"
   ]
  },
  {
   "cell_type": "code",
   "execution_count": 11,
   "metadata": {
    "collapsed": true
   },
   "outputs": [],
   "source": [
    "xy = np.loadtxt('data-04-zoo.csv', delimiter=',', dtype=np.float32)\n",
    "x_data = xy[:, 0:-1]\n",
    "y_data = xy[:, [-1]]"
   ]
  },
  {
   "cell_type": "code",
   "execution_count": 12,
   "metadata": {
    "collapsed": true
   },
   "outputs": [],
   "source": [
    "nb_classes = 7 # 0 ~ 6\n",
    "\n",
    "X = tf.placeholder(tf.float32, [None, 16])\n",
    "Y = tf.placeholder(tf.int32, [None, 1]) # 0 ~ 6\n",
    "\n",
    "Y_one_hot = tf.one_hot(Y, nb_classes)\n",
    "Y_one_hot = tf.reshape(Y_one_hot, [-1, nb_classes])\n",
    "\n",
    "W = tf.Variable(tf.random_normal([16, nb_classes]), name='weight')\n",
    "b = tf.Variable(tf.random_normal([nb_classes]), name='bias')"
   ]
  },
  {
   "cell_type": "code",
   "execution_count": 13,
   "metadata": {
    "collapsed": true
   },
   "outputs": [],
   "source": [
    "logits = tf.matmul(X, W) + b\n",
    "hypothesis = tf.nn.softmax(logits)\n",
    "\n",
    "cost_i = tf.nn.softmax_cross_entropy_with_logits(logits = logits,\n",
    "                                                labels=Y_one_hot)\n",
    "\n",
    "cost = tf.reduce_mean(cost_i)\n",
    "optimizer = tf.train.GradientDescentOptimizer(learning_rate = 0.1).minimize(cost)"
   ]
  },
  {
   "cell_type": "code",
   "execution_count": 15,
   "metadata": {},
   "outputs": [
    {
     "name": "stdout",
     "output_type": "stream",
     "text": [
      "Step:     0\tLoss: 7.486\tAcc: 1.98%\n",
      "Step:   100\tLoss: 0.698\tAcc: 71.29%\n",
      "Step:   200\tLoss: 0.400\tAcc: 90.10%\n",
      "Step:   300\tLoss: 0.281\tAcc: 96.04%\n",
      "Step:   400\tLoss: 0.215\tAcc: 96.04%\n",
      "Step:   500\tLoss: 0.175\tAcc: 99.01%\n",
      "Step:   600\tLoss: 0.147\tAcc: 100.00%\n",
      "Step:   700\tLoss: 0.128\tAcc: 100.00%\n",
      "Step:   800\tLoss: 0.113\tAcc: 100.00%\n",
      "Step:   900\tLoss: 0.101\tAcc: 100.00%\n",
      "Step:  1000\tLoss: 0.092\tAcc: 100.00%\n",
      "Step:  1100\tLoss: 0.084\tAcc: 100.00%\n",
      "Step:  1200\tLoss: 0.078\tAcc: 100.00%\n",
      "Step:  1300\tLoss: 0.073\tAcc: 100.00%\n",
      "Step:  1400\tLoss: 0.068\tAcc: 100.00%\n",
      "Step:  1500\tLoss: 0.064\tAcc: 100.00%\n",
      "Step:  1600\tLoss: 0.060\tAcc: 100.00%\n",
      "Step:  1700\tLoss: 0.057\tAcc: 100.00%\n",
      "Step:  1800\tLoss: 0.054\tAcc: 100.00%\n",
      "Step:  1900\tLoss: 0.051\tAcc: 100.00%\n",
      "True 0 0\n",
      "True 0 0\n",
      "True 3 3\n",
      "True 0 0\n",
      "True 0 0\n",
      "True 0 0\n",
      "True 0 0\n",
      "True 3 3\n",
      "True 3 3\n",
      "True 0 0\n",
      "True 0 0\n",
      "True 1 1\n",
      "True 3 3\n",
      "True 6 6\n",
      "True 6 6\n",
      "True 6 6\n",
      "True 1 1\n",
      "True 0 0\n",
      "True 3 3\n",
      "True 0 0\n",
      "True 1 1\n",
      "True 1 1\n",
      "True 0 0\n",
      "True 1 1\n",
      "True 5 5\n",
      "True 4 4\n",
      "True 4 4\n",
      "True 0 0\n",
      "True 0 0\n",
      "True 0 0\n",
      "True 5 5\n",
      "True 0 0\n",
      "True 0 0\n",
      "True 1 1\n",
      "True 3 3\n",
      "True 0 0\n",
      "True 0 0\n",
      "True 1 1\n",
      "True 3 3\n",
      "True 5 5\n",
      "True 5 5\n",
      "True 1 1\n",
      "True 5 5\n",
      "True 1 1\n",
      "True 0 0\n",
      "True 0 0\n",
      "True 6 6\n",
      "True 0 0\n",
      "True 0 0\n",
      "True 0 0\n",
      "True 0 0\n",
      "True 5 5\n",
      "True 4 4\n",
      "True 6 6\n",
      "True 0 0\n",
      "True 0 0\n",
      "True 1 1\n",
      "True 1 1\n",
      "True 1 1\n",
      "True 1 1\n",
      "True 3 3\n",
      "True 3 3\n",
      "True 2 2\n",
      "True 0 0\n",
      "True 0 0\n",
      "True 0 0\n",
      "True 0 0\n",
      "True 0 0\n",
      "True 0 0\n",
      "True 0 0\n",
      "True 0 0\n",
      "True 1 1\n",
      "True 6 6\n",
      "True 3 3\n",
      "True 0 0\n",
      "True 0 0\n",
      "True 2 2\n",
      "True 6 6\n",
      "True 1 1\n",
      "True 1 1\n",
      "True 2 2\n",
      "True 6 6\n",
      "True 3 3\n",
      "True 1 1\n",
      "True 0 0\n",
      "True 6 6\n",
      "True 3 3\n",
      "True 1 1\n",
      "True 5 5\n",
      "True 4 4\n",
      "True 2 2\n",
      "True 2 2\n",
      "True 3 3\n",
      "True 0 0\n",
      "True 0 0\n",
      "True 1 1\n",
      "True 0 0\n",
      "True 5 5\n",
      "True 0 0\n",
      "True 6 6\n",
      "True 1 1\n"
     ]
    }
   ],
   "source": [
    "prediction = tf.argmax(hypothesis, 1)\n",
    "correct_prediction = tf.equal(prediction, tf.argmax(Y_one_hot, 1))\n",
    "accuracy = tf.reduce_mean(tf.cast(correct_prediction, tf.float32))\n",
    "with tf.Session() as sess:\n",
    "    sess.run(tf.global_variables_initializer())\n",
    "    \n",
    "    for step in range(2000):\n",
    "        sess.run(optimizer, feed_dict = {X: x_data, Y: y_data})\n",
    "        if step % 100 == 0:\n",
    "            loss, acc = sess.run([cost, accuracy], feed_dict ={\n",
    "                                        X: x_data, Y: y_data})\n",
    "            print(\"Step: {:5}\\tLoss: {:.3f}\\tAcc: {:.2%}\".format(\n",
    "                step, loss, acc))\n",
    "            \n",
    "    pred = sess.run(prediction, feed_dict = {X: x_data})\n",
    "    for p, y in zip(pred, y_data.flatten()):\n",
    "        print(p==int(y), p, int(y))"
   ]
  },
  {
   "cell_type": "code",
   "execution_count": null,
   "metadata": {
    "collapsed": true
   },
   "outputs": [],
   "source": []
  }
 ],
 "metadata": {
  "kernelspec": {
   "display_name": "Python 3",
   "language": "python",
   "name": "python3"
  },
  "language_info": {
   "codemirror_mode": {
    "name": "ipython",
    "version": 3
   },
   "file_extension": ".py",
   "mimetype": "text/x-python",
   "name": "python",
   "nbconvert_exporter": "python",
   "pygments_lexer": "ipython3",
   "version": "3.5.4"
  }
 },
 "nbformat": 4,
 "nbformat_minor": 2
}
